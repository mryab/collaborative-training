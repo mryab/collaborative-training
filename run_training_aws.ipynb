{
 "cells": [
  {
   "cell_type": "code",
   "execution_count": 1,
   "metadata": {},
   "outputs": [],
   "source": [
    "import boto3\n",
    "# the code below assumes that you configure boto3 with your AWS account\n",
    "# https://boto3.amazonaws.com/v1/documentation/api/latest/guide/quickstart.html\n",
    "ec2 = boto3.resource('ec2')\n",
    "client = boto3.client('ec2')"
   ]
  },
  {
   "cell_type": "code",
   "execution_count": 2,
   "metadata": {},
   "outputs": [],
   "source": [
    "experiment_name = 'demo-run'\n",
    "# ^-- must be unique per experiment\n",
    "coordinator_type = \"c5n.xlarge\"\n",
    "dht_port = 31337\n",
    "worker_type = \"g4dn.2xlarge\"\n",
    "worker_cpus = 2\n",
    "num_workers = 16\n",
    "root_disk_name = \"/dev/xvda\"\n",
    "disk_size_gib = 125\n",
    "\n",
    "image_id = \"ami-0db67995cd75f5a9f\"\n",
    "aws_key_name = \"aws\"\n",
    "subnet = \"subnet-18f5b654\"\n",
    "security_group = \"sg-a75591d4\"\n",
    "\n",
    "repo_path = \"https://github.com/mryab/collaborative-training\"\n",
    "data_path = \"https://hivemind-data.s3.us-east-2.amazonaws.com/archive.tar.gz\""
   ]
  },
  {
   "cell_type": "code",
   "execution_count": 3,
   "metadata": {},
   "outputs": [],
   "source": [
    "# check that the experiment name is unique.\n",
    "# disable this if you want to add more instances to an existing experiment\n",
    "existing_instances = ec2.instances.filter(Filters=[\n",
    "    {'Name': 'instance-state-name', 'Values': ['running']},\n",
    "    {'Name': 'tag:experiment', 'Values': [experiment_name]},\n",
    "])"
   ]
  },
  {
   "cell_type": "code",
   "execution_count": 4,
   "metadata": {},
   "outputs": [
    {
     "name": "stdout",
     "output_type": "stream",
     "text": [
      "Already running demo-run: [ec2.Instance(id='i-046986c8ca8358845')]\n"
     ]
    }
   ],
   "source": [
    "if list(existing_instances):\n",
    "    print(f\"Already running {experiment_name}: {list(existing_instances)}\")"
   ]
  },
  {
   "cell_type": "code",
   "execution_count": 5,
   "metadata": {
    "scrolled": true
   },
   "outputs": [
    {
     "data": {
      "text/plain": [
       "[{'TerminatingInstances': [{'CurrentState': {'Code': 32,\n",
       "     'Name': 'shutting-down'},\n",
       "    'InstanceId': 'i-046986c8ca8358845',\n",
       "    'PreviousState': {'Code': 16, 'Name': 'running'}}],\n",
       "  'ResponseMetadata': {'RequestId': '77262f19-f373-47f8-8456-55e7bef867fc',\n",
       "   'HTTPStatusCode': 200,\n",
       "   'HTTPHeaders': {'x-amzn-requestid': '77262f19-f373-47f8-8456-55e7bef867fc',\n",
       "    'cache-control': 'no-cache, no-store',\n",
       "    'strict-transport-security': 'max-age=31536000; includeSubDomains',\n",
       "    'content-type': 'text/xml;charset=UTF-8',\n",
       "    'transfer-encoding': 'chunked',\n",
       "    'vary': 'accept-encoding',\n",
       "    'date': 'Fri, 26 Feb 2021 02:22:37 GMT',\n",
       "    'server': 'AmazonEC2'},\n",
       "   'RetryAttempts': 0}}]"
      ]
     },
     "execution_count": 5,
     "metadata": {},
     "output_type": "execute_result"
    }
   ],
   "source": [
    "# to remove all instances and spot requests, run this:\n",
    "# existing_instances.terminate()\n",
    "# requests_to_shutdown = []\n",
    "# for request in client.describe_spot_instance_requests()['SpotInstanceRequests']:\n",
    "#     if request['State'] == 'active' and any(\n",
    "#         tag['Key'] == 'experiment' and tag['Value'] == experiment_name\n",
    "#         for tag in request['Tags']):\n",
    "#         requests_to_shutdown.append(request['SpotInstanceRequestId'])\n",
    "# if requests_to_shutdown:\n",
    "#     client.cancel_spot_instance_requests(\n",
    "#         SpotInstanceRequestIds=requests_to_shutdown)"
   ]
  },
  {
   "cell_type": "markdown",
   "metadata": {},
   "source": [
    "### Stage 1: run coordinator\n",
    "\n",
    "Coordinator is an instance that welcomes new peers into a decentralized training run. If coordinator is down, new peers can still join by initializing with one of the existing peers."
   ]
  },
  {
   "cell_type": "code",
   "execution_count": 6,
   "metadata": {},
   "outputs": [],
   "source": [
    "coordinator_script = f'''#!/bin/bash -ex\n",
    "exec > >(tee /var/log/user-command.log|logger -t user-data -s 2>/dev/console) 2>&1\n",
    "\n",
    "\n",
    "# NOTE: docker run must be called without --it as there is no tty\n",
    "# check machine's /var/log/user-command.log for details\n",
    "\n",
    "docker run --name trainer_run --ipc=host --net=host mrbn/hivemind bash -c \"\"\"\n",
    "set -euxo pipefail\n",
    "\n",
    "pip install whatsmyip\n",
    "git clone https://github.com/learning-at-home/hivemind -b albert_exp2\n",
    "cd hivemind\n",
    "pip install -e .\n",
    "cd ~\n",
    "\n",
    "git clone {repo_path} collaborative-training\n",
    "\n",
    "cd collaborative-training\n",
    "python run_first_peer.py --listen_on [::]:{dht_port}\n",
    "\n",
    "\"\"\"\n",
    "'''"
   ]
  },
  {
   "cell_type": "code",
   "execution_count": 7,
   "metadata": {},
   "outputs": [],
   "source": [
    "coordinator, = ec2.create_instances(\n",
    "    ImageId=image_id, InstanceType=coordinator_type,\n",
    "    MinCount=1, MaxCount=1,\n",
    "    SecurityGroupIds=[security_group], SubnetId=subnet,\n",
    "    KeyName=aws_key_name, UserData=coordinator_script,\n",
    "    TagSpecifications=[{'ResourceType': 'instance', 'Tags': [\n",
    "        {'Key':'experiment', 'Value': experiment_name},\n",
    "        {'Key':'role', 'Value': 'first_peer'}\n",
    "    ]}]\n",
    ")\n",
    "coordinator.wait_until_running()\n",
    "coordinator, = list(ec2.instances.filter(InstanceIds=[coordinator.id]))\n",
    "coordinator_endpoint = f\"{coordinator.public_ip_address}:{dht_port}\""
   ]
  },
  {
   "cell_type": "code",
   "execution_count": 8,
   "metadata": {},
   "outputs": [
    {
     "name": "stdout",
     "output_type": "stream",
     "text": [
      "Coordinator is not accessible yet, will retry in 30s...\n",
      "Coordinator is not accessible yet, will retry in 30s...\n",
      "Coordinator is not accessible yet, will retry in 30s...\n",
      "Coordinator is not accessible yet, will retry in 30s...\n",
      "Coordinator is not accessible yet, will retry in 30s...\n",
      "Coordinator is not accessible yet, will retry in 30s...\n",
      "Coordinator is not accessible yet, will retry in 30s...\n",
      "Coordinator is now accessible to workers!\n",
      "Use public ip: {coordinator_endpoint}\n"
     ]
    }
   ],
   "source": [
    "import time\n",
    "import hivemind as src\n",
    "\n",
    "probe = await src.DHTNode.create(listen=False)\n",
    "for i in range(20):\n",
    "    ping_response = await probe.protocol.call_ping(coordinator_endpoint)\n",
    "    if ping_response is not None:\n",
    "        print(\"Coordinator is now accessible to workers!\")\n",
    "        print(f\"Use public ip: {coordinator_endpoint}\")\n",
    "        break\n",
    "    else:\n",
    "        print(\"Coordinator is not accessible yet, will retry in 30s...\")\n",
    "        time.sleep(30)\n",
    "else:\n",
    "    print(\"Coordinator failed to launch for some reason.\")\n",
    "    print(\"Check /var/log/user-command.log at ec2-user@{coordinator_endpoint}\")\n",
    "    \n",
    "# this should normally take 7-12 retries depending on the will of Bezos"
   ]
  },
  {
   "cell_type": "markdown",
   "metadata": {},
   "source": [
    "### Stage 1: run workers\n",
    "\n",
    "Workers are preemptible GPU instances that run compute gradients and perform Moshpit averaging. In this example, each worker is a single tesla T4 instance."
   ]
  },
  {
   "cell_type": "code",
   "execution_count": 9,
   "metadata": {},
   "outputs": [],
   "source": [
    "worker_script = f'''#!/bin/bash -ex\n",
    "exec > >(tee /var/log/user-command.log|logger -t user-data -s 2>/dev/console) 2>&1\n",
    "\n",
    "set -euxo pipefail\n",
    "cd ~\n",
    "\n",
    "docker run --name hivemind_run --gpus all --ipc=host --net=host mrbn/hivemind bash -c \"\"\"\n",
    "\n",
    "wget {data_path}\n",
    "mkdir -p ~/data\n",
    "tar xvfz archive.tar.gz -C ~/data\n",
    "\n",
    "git clone https://github.com/learning-at-home/hivemind -b albert_exp2\n",
    "cd hivemind\n",
    "pip install -e .\n",
    "cd ~\n",
    "\n",
    "git clone {repo_path} collaborative-training\n",
    "cd collaborative-training\n",
    "ln -s ~/data ./data\n",
    "python run_trainer.py \\\n",
    "  --output_dir ./outputs --overwrite_output_dir \\\n",
    "  --logging_dir ./logs --logging_first_step --logging_steps 100 \\\n",
    "  --initial_peers {coordinator_endpoint} --seed 0\n",
    "\n",
    "\"\"\"\n",
    "'''\n"
   ]
  },
  {
   "cell_type": "code",
   "execution_count": 10,
   "metadata": {},
   "outputs": [
    {
     "data": {
      "text/plain": [
       "[ec2.Instance(id='i-024292d3ed59ecaa8'),\n",
       " ec2.Instance(id='i-02cb8fb09e6300d03'),\n",
       " ec2.Instance(id='i-0e990ff9bccbe4f62'),\n",
       " ec2.Instance(id='i-0ce7e5dc54bd6cf24'),\n",
       " ec2.Instance(id='i-081dcbdfa00c8c3d4'),\n",
       " ec2.Instance(id='i-0a496f72a866f24de'),\n",
       " ec2.Instance(id='i-069f8a3a82eb97d93'),\n",
       " ec2.Instance(id='i-027d74798e90beddb'),\n",
       " ec2.Instance(id='i-0fb8aedfa2afa671d'),\n",
       " ec2.Instance(id='i-09be2aebdfb889c21'),\n",
       " ec2.Instance(id='i-0d39b81b2e36be01c'),\n",
       " ec2.Instance(id='i-073f15af91d30e598'),\n",
       " ec2.Instance(id='i-026ee3090f0b32aa4'),\n",
       " ec2.Instance(id='i-084e146d0f15574a3'),\n",
       " ec2.Instance(id='i-0a871d8458f58c3e2'),\n",
       " ec2.Instance(id='i-013f6e87b32d25ac4')]"
      ]
     },
     "execution_count": 10,
     "metadata": {},
     "output_type": "execute_result"
    }
   ],
   "source": [
    "ec2.create_instances(\n",
    "    ImageId=image_id, InstanceType=worker_type,\n",
    "    MinCount=num_workers, MaxCount=num_workers,\n",
    "    UserData=worker_script,\n",
    "    SecurityGroupIds=[security_group], SubnetId=subnet,\n",
    "    KeyName=aws_key_name,\n",
    "    BlockDeviceMappings=[{\"DeviceName\": root_disk_name, \"Ebs\" : { \"VolumeSize\" : disk_size_gib }}],\n",
    "    InstanceMarketOptions={\n",
    "        \"MarketType\": \"spot\",\n",
    "        \"SpotOptions\": {\n",
    "            \"SpotInstanceType\": \"persistent\",\n",
    "            \"InstanceInterruptionBehavior\": \"stop\"\n",
    "        }\n",
    "    },\n",
    "    TagSpecifications=[{'ResourceType': 'instance', 'Tags': [\n",
    "        {'Key':'experiment', 'Value': experiment_name},\n",
    "        {'Key':'role', 'Value': 'gpu_worker'}\n",
    "    ]}, {'ResourceType': 'spot-instances-request', 'Tags': [\n",
    "        {'Key':'experiment', 'Value': experiment_name},\n",
    "        {'Key':'role', 'Value': 'gpu_worker'}\n",
    "    ]}],\n",
    "    CpuOptions={\n",
    "          'CoreCount': worker_cpus,\n",
    "          'ThreadsPerCore': 2\n",
    "      },\n",
    ")"
   ]
  },
  {
   "cell_type": "code",
   "execution_count": 54,
   "metadata": {},
   "outputs": [
    {
     "data": {
      "text/plain": [
       "[ec2.Instance(id='i-0fde522b114cebff3')]"
      ]
     },
     "execution_count": 54,
     "metadata": {},
     "output_type": "execute_result"
    }
   ],
   "source": [
    "# optionally add more instances, e.g.\n",
    "ec2.create_instances(\n",
    "    ImageId=image_id, InstanceType=worker_type,\n",
    "    MinCount=1, MaxCount=1,\n",
    "    UserData=worker_script,\n",
    "    SecurityGroupIds=[security_group], SubnetId=subnet,\n",
    "    KeyName=aws_key_name,\n",
    "    BlockDeviceMappings=[{\"DeviceName\": root_disk_name, \"Ebs\" : { \"VolumeSize\" : disk_size_gib }}],\n",
    "    InstanceMarketOptions={\n",
    "        \"MarketType\": \"spot\",\n",
    "        \"SpotOptions\": {\n",
    "            \"SpotInstanceType\": \"persistent\",\n",
    "            \"InstanceInterruptionBehavior\": \"stop\"\n",
    "        }\n",
    "    },\n",
    "    TagSpecifications=[{'ResourceType': 'instance', 'Tags': [\n",
    "        {'Key':'experiment', 'Value': experiment_name},\n",
    "        {'Key':'role', 'Value': 'gpu_worker'}\n",
    "    ]}, {'ResourceType': 'spot-instances-request', 'Tags': [\n",
    "        {'Key':'experiment', 'Value': experiment_name},\n",
    "        {'Key':'role', 'Value': 'gpu_worker'}\n",
    "    ]}],\n",
    "    CpuOptions={\n",
    "          'CoreCount': worker_cpus,\n",
    "          'ThreadsPerCore': 2\n",
    "      },\n",
    ")"
   ]
  },
  {
   "cell_type": "code",
   "execution_count": null,
   "metadata": {},
   "outputs": [],
   "source": [
    "# or a different instance type...\n",
    "ec2.create_instances(\n",
    "    ImageId=image_id, \n",
    "    InstanceType='p3.2xlarge',\n",
    "    MinCount=4, MaxCount=4,\n",
    "    UserData=worker_script,\n",
    "    SecurityGroupIds=[security_group], SubnetId=subnet,\n",
    "    KeyName=aws_key_name,\n",
    "    BlockDeviceMappings=[{\"DeviceName\": root_disk_name, \"Ebs\" : { \"VolumeSize\" : disk_size_gib }}],\n",
    "    InstanceMarketOptions={\n",
    "        \"MarketType\": \"spot\",\n",
    "        \"SpotOptions\": {\n",
    "            \"SpotInstanceType\": \"persistent\",\n",
    "            \"InstanceInterruptionBehavior\": \"stop\"\n",
    "        }\n",
    "    },\n",
    "    TagSpecifications=[{'ResourceType': 'instance', 'Tags': [\n",
    "        {'Key':'experiment', 'Value': experiment_name},\n",
    "        {'Key':'role', 'Value': 'gpu_worker'}\n",
    "    ]}, {'ResourceType': 'spot-instances-request', 'Tags': [\n",
    "        {'Key':'experiment', 'Value': experiment_name},\n",
    "        {'Key':'role', 'Value': 'gpu_worker'}\n",
    "    ]}],\n",
    "    CpuOptions={\n",
    "          'CoreCount': worker_cpus,\n",
    "          'ThreadsPerCore': 2\n",
    "      },\n",
    ")"
   ]
  },
  {
   "cell_type": "code",
   "execution_count": 55,
   "metadata": {
    "scrolled": false
   },
   "outputs": [
    {
     "name": "stdout",
     "output_type": "stream",
     "text": [
      "total: 39\n",
      "ec2.Instance(id='i-0a7c1858ada3079a2') 3.129.70.209 {'Code': 16, 'Name': 'running'}\n",
      "ec2.Instance(id='i-096da85667287002b') 3.133.129.9 {'Code': 16, 'Name': 'running'}\n",
      "ec2.Instance(id='i-09f52a1195c90d073') 3.129.250.193 {'Code': 16, 'Name': 'running'}\n",
      "ec2.Instance(id='i-033a44e77c2606333') 18.216.45.156 {'Code': 16, 'Name': 'running'}\n",
      "ec2.Instance(id='i-0196468b686756a7c') 3.18.214.238 {'Code': 16, 'Name': 'running'}\n",
      "ec2.Instance(id='i-013f6e87b32d25ac4') 13.58.123.240 {'Code': 16, 'Name': 'running'}\n",
      "ec2.Instance(id='i-026ee3090f0b32aa4') 3.18.220.39 {'Code': 16, 'Name': 'running'}\n",
      "ec2.Instance(id='i-0a871d8458f58c3e2') 18.223.44.192 {'Code': 16, 'Name': 'running'}\n",
      "ec2.Instance(id='i-09be2aebdfb889c21') 13.58.133.73 {'Code': 16, 'Name': 'running'}\n",
      "ec2.Instance(id='i-0d39b81b2e36be01c') 3.134.111.227 {'Code': 16, 'Name': 'running'}\n",
      "ec2.Instance(id='i-0fb8aedfa2afa671d') 3.15.181.37 {'Code': 16, 'Name': 'running'}\n",
      "ec2.Instance(id='i-0e990ff9bccbe4f62') 18.222.252.165 {'Code': 16, 'Name': 'running'}\n",
      "ec2.Instance(id='i-081dcbdfa00c8c3d4') 3.21.166.62 {'Code': 16, 'Name': 'running'}\n",
      "ec2.Instance(id='i-073f15af91d30e598') 18.222.63.224 {'Code': 16, 'Name': 'running'}\n",
      "ec2.Instance(id='i-084e146d0f15574a3') 18.220.52.229 {'Code': 16, 'Name': 'running'}\n",
      "ec2.Instance(id='i-024292d3ed59ecaa8') 3.22.97.116 {'Code': 16, 'Name': 'running'}\n",
      "ec2.Instance(id='i-069f8a3a82eb97d93') 18.216.254.203 {'Code': 16, 'Name': 'running'}\n",
      "ec2.Instance(id='i-027d74798e90beddb') 3.134.89.0 {'Code': 16, 'Name': 'running'}\n",
      "ec2.Instance(id='i-0a496f72a866f24de') 3.138.190.95 {'Code': 16, 'Name': 'running'}\n",
      "ec2.Instance(id='i-0ce7e5dc54bd6cf24') 52.14.157.226 {'Code': 16, 'Name': 'running'}\n",
      "ec2.Instance(id='i-02cb8fb09e6300d03') 3.131.137.52 {'Code': 16, 'Name': 'running'}\n",
      "ec2.Instance(id='i-095bdf630d7150072') 3.134.94.255 {'Code': 16, 'Name': 'running'}\n",
      "ec2.Instance(id='i-052dd8a69eae7c2df') 3.19.211.125 {'Code': 16, 'Name': 'running'}\n",
      "ec2.Instance(id='i-056f6490fbe30ebb4') 3.133.81.177 {'Code': 16, 'Name': 'running'}\n",
      "ec2.Instance(id='i-0e2a978a3f25da1ee') 13.59.185.208 {'Code': 16, 'Name': 'running'}\n",
      "ec2.Instance(id='i-071a5d99d5a94d8f8') 3.141.170.151 {'Code': 16, 'Name': 'running'}\n",
      "ec2.Instance(id='i-05676a14979986de2') 18.219.69.196 {'Code': 16, 'Name': 'running'}\n",
      "ec2.Instance(id='i-0c73dcec9558cc9ed') 18.220.3.251 {'Code': 16, 'Name': 'running'}\n",
      "ec2.Instance(id='i-01cc6a5532bd9740c') 18.188.97.51 {'Code': 16, 'Name': 'running'}\n",
      "ec2.Instance(id='i-06293b6a61687d229') 18.188.121.155 {'Code': 16, 'Name': 'running'}\n",
      "ec2.Instance(id='i-0ce9c9a911448d3b8') None {'Code': 48, 'Name': 'terminated'}\n",
      "ec2.Instance(id='i-0efa981bd6b8fed50') 3.141.196.198 {'Code': 16, 'Name': 'running'}\n",
      "ec2.Instance(id='i-07eff82550f166567') 3.131.94.65 {'Code': 16, 'Name': 'running'}\n",
      "ec2.Instance(id='i-0a42266614ed69017') 18.223.143.47 {'Code': 16, 'Name': 'running'}\n",
      "ec2.Instance(id='i-0f841fb6967606424') 18.189.17.120 {'Code': 16, 'Name': 'running'}\n",
      "ec2.Instance(id='i-007e4d5b62daf8b39') 18.218.177.167 {'Code': 16, 'Name': 'running'}\n",
      "ec2.Instance(id='i-06756d5874f432dd3') 18.219.77.8 {'Code': 16, 'Name': 'running'}\n",
      "ec2.Instance(id='i-051c251ab7930d820') 18.220.12.242 {'Code': 16, 'Name': 'running'}\n",
      "ec2.Instance(id='i-0fde522b114cebff3') 18.222.198.202 {'Code': 16, 'Name': 'running'}\n"
     ]
    }
   ],
   "source": [
    "print('total:', len(list(ec2.instances.all())))\n",
    "for instance in list(ec2.instances.all()):\n",
    "    print(instance, instance.public_ip_address, instance.state)"
   ]
  },
  {
   "cell_type": "markdown",
   "metadata": {},
   "source": [
    "To check the system progress, connect to any running trainer instance via ssh and `tail -f /var/log/user-command.log`"
   ]
  }
 ],
 "metadata": {
  "kernelspec": {
   "display_name": "py38",
   "language": "python",
   "name": "py38"
  },
  "language_info": {
   "codemirror_mode": {
    "name": "ipython",
    "version": 3
   },
   "file_extension": ".py",
   "mimetype": "text/x-python",
   "name": "python",
   "nbconvert_exporter": "python",
   "pygments_lexer": "ipython3",
   "version": "3.8.1"
  }
 },
 "nbformat": 4,
 "nbformat_minor": 2
}
